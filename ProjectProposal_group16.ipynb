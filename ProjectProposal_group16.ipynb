{
  "cells": [
    {
      "cell_type": "markdown",
      "metadata": {
        "id": "N0FGO-zuZPLm"
      },
      "source": [
        "# COGS 108 - Final Project Proposal"
      ]
    },
    {
      "cell_type": "markdown",
      "metadata": {
        "id": "etOFpGGaZPLn"
      },
      "source": [
        "# Names\n",
        "\n",
        "- Sumadhu (Genie) Rubaiyat\n",
        "- John Carrion\n",
        "- Girish Krishnan\n",
        "- Sarah Reine Bulatao\n",
        "- Seiji Yang\n",
        "- Ho Lam Woo\n"
      ]
    },
    {
      "cell_type": "markdown",
      "metadata": {
        "id": "scjBuuniZPLn"
      },
      "source": [
        "# Research Question"
      ]
    },
    {
      "cell_type": "markdown",
      "metadata": {
        "id": "AtyOEuO_ZPLn"
      },
      "source": [
        "<!-- -  Include a specific, clear data science question.\n",
        "-  Make sure what you're measuring (variables) to answer the question is clear\n",
        "\n",
        "What is your research question? Include the specific question you're setting out to answer. This question should be specific, answerable with data, be related to data science and clear. A general question with specific subquestions is permitted. You should NOT include a prediction of what you think or assume the outcome will be. This is only a question. (1-2 sentences) -->\n",
        "\n",
        "<!-- ### Our research question -->\n",
        "\n",
        "**Does some ordering of the weeks in a typical UCSD quarter correlate with the number of collisions near UCSD reported to the police? Does the mile radius around UCSD influence the relationship between these variables?**\n"
      ]
    },
    {
      "cell_type": "markdown",
      "metadata": {
        "id": "57UHZwVFZPLn"
      },
      "source": [
        "# Background and Prior Work"
      ]
    },
    {
      "cell_type": "markdown",
      "metadata": {
        "id": "qzQ6N58WZPLn"
      },
      "source": [
        "\n",
        "<!-- - Include a general introduction to your topic\n",
        "- Include explanation of what work has been done previously\n",
        "- Include citations or links to previous work\n",
        "\n",
        "This section will present the background and context of your topic and question in a few paragraphs. Include a general introduction to your topic and then describe what information you currently know about the topic after doing your initial research. Include references to other projects who have asked similar questions or approached similar problems. Explain what others have learned in their projects.\n",
        "\n",
        "Find some relevant prior work, and reference those sources, summarizing what each did and what they learned. Even if you think you have a totally novel question, find the most similar prior work that you can and discuss how it relates to your project.\n",
        "\n",
        "References can be research publications, but they need not be. Blogs, GitHub repositories, company websites, etc., are all viable references if they are relevant to your project. It must be clear which information comes from which references. (2-3 paragraphs, including at least 2 references)\n",
        "\n",
        " **Use inline citation through Markdown footnotes to specify which references support which statements**\n",
        "\n",
        "For example:\n",
        "\n",
        "Traditional approaches to robotic manipulation in industry have relied upon simplifying the problem such that simple manipulators designed for a single purpose could be used (pinchers, pick-and-place machines, etc), however in order to bring robots into uncertain, changing environments with humans and in order to task them with multiple dynamic operations, a totally new approach must be considered[^simpkins2012].\n",
        "\n",
        "\n",
        " You need enough references to fully explain and back up important facts.  \n",
        "\n",
        "[^simpkins2012]: Simpkins, C. (17 Aug 2012) Towards methods for robotic systems capable of human-level dexterity in manipulation and locomotion. *International Conference on Mechatronic System and Measurement Technology*. http://casimpkinsjr.radiantdolphinpress.com/files/simpkins_ICMSMT2012c.pdf\n",
        "\n",
        "References should be relevant to the project, not randomly chosen vaguely related topics. If possible you should include a web link as demonstrated above.\n",
        "\n",
        "### Our Project's Background and Prior Work -->\n",
        "\n",
        "#### General Introduction to the Topic\n",
        "\n",
        "Our topic investigates the relationship between traffic accidents reported to the police (in areas around UCSD) and the time at which they occur relative to the academic calendar followed by the UCSD quarter system. Although the occurrence of traffic accidents are variable, it is interesting to find out which weeks in the UCSD quarter system are statistically likely to have more traffic accidents in the area around UCSD. This could segue into an analysis of the different reasons behind why certain weeks may or may not have more traffic accidents than other weeks.\n",
        "\n",
        "After doing our initial research, we currently know that there is existing data publicly available online regarding the traffic incidents reported to the police, and this data contain precise timestamps along with other information related to the severity of the accident. Furthermore, we are planning to focus on the UCSD academic calendar, so we will match the timestamp data with the corresponding week of the UCSD calendar. Since we are planning to analyze accidents in areas near UCSD, we plan to use information such as the address or geographical coordinates of the accident to only consider the accidents near the UCSD area within a set radius.\n",
        "\n",
        "#### Explanation of what work has been done previously:\n",
        "\n",
        "There has been previous work examining traffic accidents around UCLA, UC Berkeley, and California State University, Sacramento [^anastasia2014], and this includes both police reported and self-reported accidents in collision \"hotspot\" areas that are popularly known to have a lot of traffic accidents. The main results from the work of Anastasia et. al. were that traffic accidents were most prevalent in \"campus activity hubs, campus access hubs, and through traffic hubs\". However, the paper does not analyze any correlation between time and the occurrence of such accidents. Furthermore, the paper mentioned that there is a significant underreporting of crashes.\n",
        "\n",
        "The work of [^tsai2019] analyzes traffic collisions in the San Diego area and identifies which days of the week tend to have more collisions. Their conclusion was that the number of injuries was greatest on Friday and the number of deaths was greatest on Monday. However, there were no statistical tests performed to verify that these trends were significant and there were issues with the times of the accident being imprecise. Our project hopes to resolve these issues.\n",
        "\n",
        "The work of S. Rawat [^rawat2020] performs data analysis on traffic accident dataset covering the USA. The work concluded that visibility and weather conditions did not significantly affect the presence of road accidents. The work also visualized the number of road accidents as a function of time in years, showing how the number of accidents of each severity level have increased from 2015 to 2019. Our project, however, hopes to dive deeper into the variation in the number of accidents over a single quarter of the UCSD academic calendar.\n",
        "\n",
        "#### Citations or Links to Previous Work\n",
        "\n",
        "[^rawat2020]: Rawat, S. (2020, September 16). USA Accidents Data Analysis. Towards Data Science. Retrieved July 15, 2023, from https://towardsdatascience.com/usa-accidents-data-analysis-d130843cde02\n",
        "\n",
        "[^anastasia2014]: Anastasia Loukaitou-Sideris, Aditya Medury, Camille Fink, Offer Grembek, Kevan Shafizadeh, Norman Wong & Phyllis Orrick (2014) Crashes on and Near College Campuses: A Comparative Analysis of Pedestrian and Bicyclist Safety, Journal of the American Planning Association, 80:3, 198-217, DOI: 10.1080/01944363.2014.978354. Link: https://www.tandfonline.com/doi/full/10.1080/01944363.2014.978354\n",
        "\n",
        "[^tsai2019] Nathan Tsai, Bernard Wong, and Sally Poon, San Diego Traffic Collision Analysis, (2019), GitHub repository, https://github.com/nhtsai/datathon2019"
      ]
    },
    {
      "cell_type": "markdown",
      "metadata": {
        "id": "CC3VMn_ZZPLo"
      },
      "source": [
        "# Hypothesis\n"
      ]
    },
    {
      "cell_type": "markdown",
      "metadata": {
        "id": "smVuQWd1ZPLo"
      },
      "source": [
        "### Research Hypothesis:\n",
        "**The number of reported collisions to the police is highest during the first and last week of the UCSD quarter.**\n",
        "\n",
        "### Null Hypothesis:\n",
        "**The number of reported collisions to the police has no correlation with the week of the UCSD quarter.**"
      ]
    },
    {
      "cell_type": "markdown",
      "metadata": {
        "id": "wvmrmMJTZPLo"
      },
      "source": [
        "# Data"
      ]
    },
    {
      "cell_type": "markdown",
      "metadata": {
        "id": "_4AL54cSZPLo"
      },
      "source": [
        "1. Explain what is the **ideal** dataset for answering this question. (This should include: What variables? How many observations? Who/what/how would this data be collected? How would this data be stored/organized?)\n",
        "\n",
        "**Variables in the ideal dataset**\n",
        "\n",
        "* A latitude and longitude (degrees, minutes, seconds) of the location at which the accident occurred.\n",
        "  * This ensures the location is precise so that we can check whether or not the accident occurred near UCSD.\n",
        "* The cause of the accident\n",
        "  * This is a categorical variable, and is a very short (1-3 words) description of what caused the accident.\n",
        "* The timestamp of the accident (date and time)\n",
        "* Number of people involved in the accident\n",
        "* Severity\n",
        "\n",
        "**How many observations:** We ideally want a record of every accident in the past 10 years, so there shouldn't be any missing data records.\n",
        "\n",
        "**Who/what/how would this data be collected?** Collecting precise data will require the use of smart security cameras on streets around the UCSD area. The police also have records of all accidents reported to them. There will also be accounts or reports from people who were affected by the accident. These datasets need to be combined in an effective way.\n",
        "\n",
        "**How would this data be stored/organized?:** A spreadsheet or table or CSV file would be a simple way to organize it, with each row representing one accident and the columns representing the different variables.\n",
        "\n",
        "2. Search for potential **real** datasets that could provide you with something useful for this project.  You do not have to find every piece of data you will use, but you do need to have demonstrated some idea that (a) this data is available and (b) that this data may be different from what your ideal is, and you are considering strategies to use or adapt it or adapt your question.\n",
        "\n",
        "**Real datasets:**\n",
        "We plan to do some data wrangling to effectively combine and adapt the data from the sources below so that we make a dataset that is close to our ideal dataset.\n",
        "\n",
        "* Car crashes by the time of the day and week: https://injuryfacts.nsc.org/motor-vehicle/overview/crashes-by-time-of-day-and-day-of-week/\n",
        "  * describes the number of fatal crashes by date and time range. This only includes fatal crashes, not all accidents.\n",
        "* San Diego Parking Citations Dataset: https://data.sandiego.gov/datasets/parking-citations/\n",
        "  * Describes parking citations in San Diego area (date, time, location, fine). Not directly related to our research question, but it is another interesting avenue to explore.\n",
        "* San Diego Traffic Volumes Dataset: https://data.sandiego.gov/datasets/traffic-volumes/\n",
        "  * Decribes general traffic data in San Diego. It is important to consider the total volume of traffic at any given time when considering accidents so that valid comparisons are made.\n",
        "* San Diego Police Collisions: https://data.sandiego.gov/datasets/police-collisions/\n",
        "  * Data gathered from the San Diego Police related to vehicle collisions. Contains precise timestamps and addresses.\n",
        "* California Accident Reports: https://myaccident.org/california-accident-reports\n",
        "  * Accidents reported in California, contains precise date and time as well as the number of people impacted."
      ]
    },
    {
      "cell_type": "markdown",
      "metadata": {
        "id": "goI17s9wZPLo"
      },
      "source": [
        "# Ethics & Privacy"
      ]
    },
    {
      "cell_type": "markdown",
      "metadata": {
        "id": "pygJyLsiZPLo"
      },
      "source": [
        "#### Discussion of Ethical Concerns\n",
        "\n",
        "- One possible ethical concern is how much data is being collected from the police, since the data being collected may have personal information of gender, ethnicity, age, geographical pinpoint on where they live.\n",
        "\n",
        "- It's possible that the information about accidents could be combined with other public data to get the identities of people in said accidents.\n",
        "\n",
        "- The privacy of data related to accidents and their severity is important. The usage of such data requires consent from those reporting the accident as well as those affected by the accident.\n",
        "\n",
        "- It is important to consider any possible data bias. For example, there could be an underreporting of accidents in certain parts of La Jolla.\n",
        "\n",
        "We plan to primarily use data collected by the police with regards to the accidents and fatalities, and this data is anonymized and any data related to personal information is removed. Here is a breakdown of ethical considerations in each area of the data science process:\n",
        "\n",
        "#### DATA SCIENCE ETHICS CHECKLIST\n",
        "\n",
        "**QUESTIONS ASKED**\n",
        "\n",
        "Our project aims to analyze the number of traffic accidents over time in a UCSD quarter, in the area around UCSD. It is important to understand that the question asks for a statistical relationship, and the actual causes for such a relationship could vary. Our question is also restricted to the area around UCSD, so the conclusions of our project should not be generalized elsewhere without adequate data.\n",
        "\n",
        "**DATA COLLECTION**\n",
        "  * INFORMED CONSENT: People in accidents are not made explicitly aware that details of their accident are released to the public. However, this is not quite our issue, since we are not collecting data. We shouldn't republish this data, but we can provide the source.\n",
        "\n",
        "  * COLLECTION BIAS: Hit-and-runs are not included in police-reported data, so if some demographic has a higher/lower rate of engaging in that behavior, they may be over/under-represented in the data. However, this is not quite our issue, since we are not collecting data.\n",
        "\n",
        "  * LIMIT PII EXPOSURE: Although their name is not included in the data, the severity and time of the accident is included. This could possibly identify a person with a visible injury which occured around the time of the accident. However, this is not quite our issue, since we are not collecting data.\n",
        "\n",
        "  * DOWNSTREAM BIAS MITIGATION: Make it clear that it's not apparent what is causing this, since people may sterotype UCSD students to get into collisions.\n",
        "\n",
        "**DATA BEING USED AND STORAGE OF DATA**\n",
        "  * DATA SECURITY: The data we're working with is public and anonymized, so the data being secure isn't an issue.\n",
        "\n",
        "  * RIGHT TO BE FORGOTTEN: We won't publish a copy of the data and instead rather a source, such that the original data can be removed upon request.\n",
        "\n",
        "  * DATA RETENTION PLAN: The data is public. We may delete our internal copies as soon as our analysis is over, or the data is removed.\n",
        "\n",
        "**BIAS IN DATA**\n",
        "\n",
        "* Possible that some smaller streets may have underreported accidents\n",
        "\n",
        "* Some accidents could have been erased from collected records due to incomplete data or uncertain information or other privacy concerns\n",
        "\n",
        "* Accidents involving just one vehicle or one person may not be reported if they are not observed by anyone else\n",
        "\n",
        "**BIAS IN OBSERVERS AND RESEARCHERS**\n",
        "\n",
        "* The observers need to have reported the accident to the police in order for the accident to be considered on our data analysis. Hence, some relatively minor accidents with no fatalities may not be reported.\n",
        "\n",
        "**ANALYSIS**\n",
        "  * MISSING PERSPECTIVES: It is possible that only the major streets around UCSD are considered, so smaller streets may not be sufficiently represented.\n",
        "\n",
        "  * HONEST REPRESENTATION: There may be a greater proportion of data involving larger streets and highways.\n",
        "\n",
        "  * PRIVACY IN ANALYSIS: Need to ensure that any personal information of people involved in the accident is removed.\n",
        "\n",
        "  * AUDITABILITY: We will ensure that our analysis methods are well documented and reproducible.\n",
        "\n",
        "**MODELING**\n",
        "  * PROXY DISCIMINATION: Since the main dependent variable here is number of accidents, this avoids proxy discimination. Although it may also be helpful to consider the severity of an accident for a more justified conclusion.\n",
        "\n",
        "  * FAIRNESS ACROSS GROUPS: Need to test our predictions in different subsets of the region around UCSD.\n",
        "\n",
        "  * METRIC SELECTION: Additional metrics we could use are severity of accidents, number of people affected, injuries, fatalities, etc.\n",
        "\n",
        "  * EXPLAINABILITY: Using visualizations to show the predictions of our statistical model.\n",
        "\n",
        "  * COMMUNICATE BIAS: This will be done by explaining the limitations of the dataset and the method used for its collection.\n",
        "\n",
        "**POST-ANALYSIS AND DEPLOYMENT**\n",
        "  * MONITORING AND EVALUATION: Monitor impact by collecting new data from recent times (e.g. 2023 academic year) and check if the same statistical trends exist\n",
        "\n",
        "  * REDRESS: Update the analysis and models and reframe the conclusion. There shouldn't be a definite conlusion that predicts when exactly an accident can happen.\n",
        "\n",
        "  * UNINTENDED USE: It is important to clearly state that our analysis is only statistical, and doesn't imply that one should avoid driving in certain times due to the greater possibility of accidents.\n",
        "\n",
        "  ### How to handle bias and ethical concerns?\n",
        "\n",
        "  - We clearly define our research question so that it encompasses all traffic accidents in the UCSD area, not accidents specific to certain groups of people (categorized by race, gender, or other features).\n",
        "\n",
        "  - We will ensure that the results are shown as statistics that can help infer what might have cause these accidents. We will make it clear that our model does not serve as a predictor to future accidents, given the large number of variables influencing an accident's occurrence.\n",
        "\n",
        "#### Ethical Considerations Summary\n",
        "\n",
        "We plan to primarily use data collected by the police with regards to the accidents and fatalities.\n",
        "\n",
        "There are quite a few concerns regarding the data collection practices of the police in regards to the public datasets we're using. One such ethical concern is how much data is being collected from the police, since the data being collected may have personal information of gender, ethnicity, age, geographical pinpoint on where they live. It's possible that the information about accidents could be combined with other public data to get the identities of people in said accidents. Moreover, people reporting their accidents to the police may believe that this information is confidential, similar to criminal records, and as such are not giving their informed consent to this information being shared. Furthermore, there is collection bias based on certain demographics perhaps being more likely to commit hit-and-runs, since afterall, we only know what the police does.\n",
        "\n",
        "However, since we're not the ones responsible for the collection of this data and do not have the authority to add or remove data from these datasets, all we can do to ensure data privacy is not keep copies of the datasets internally for longer than necessary and never publish a copy of the dataset online. Rather, if necessary to prove credibility for our analyses, we should opt to cite the dataset, so that in case the SDPD decide to remove these datasets upon data privacy concerns, we do not engage in the proliferation of this content against their consent.\n",
        "\n",
        "Our project aims to analyze the number of traffic accidents over time in a UCSD quarter, in the area around UCSD. It is important to understand that the question asks for a statistical relationship, and the actual causes for such a relationship could vary. Our question is also restricted to the area around UCSD, so the conclusions of our project should not be generalized elsewhere without adequate data."
      ]
    },
    {
      "cell_type": "markdown",
      "metadata": {
        "id": "8YQuWIVZZPLp"
      },
      "source": [
        "# Team Expectations"
      ]
    },
    {
      "cell_type": "markdown",
      "metadata": {
        "id": "_fSkxZIGZPLp"
      },
      "source": [
        "Read over the [COGS108 Team Policies](https://github.com/drsimpkins-teaching/cogs108/blob/main/main_project/TeamPolicies.md) individually. Then, include your group’s expectations of one another for successful completion of your COGS108 project below. Discuss and agree on what all of your expectations are. Discuss how your team will communicate throughout the quarter and consider how you will communicate respectfully should conflicts arise. By including each member’s name above and by adding their name to the submission, you are indicating that you have read the COGS108 Team Policies, accept your team’s expectations below, and have every intention to fulfill them. These expectations are for your team’s use and benefit — they won’t be graded for their details.\n",
        "\n",
        "### Our Team's Expectations\n",
        "\n",
        "Due to the accelerated pace of summer session, majority of our group meetings will be remote (via Discord), and we plan our project work to be completed asynchronously. Due to that, planning and clear communication is vital to ensure every team member is aware of their role in the project, and complete's their work in time for the associated deadlines.\n",
        "\n",
        "- Generally create an event for everyone to discuss on Discord and check what is the best time to discuss with everyone.\n",
        "- We will be doing both in-person and online to catch up with demands for COGS 108.\n",
        "- Everyone will have their own parts to do in a timely manner, hopefully.\n",
        "- daily activity on our group project discord\n",
        "- clear communication on what every member is working on\n",
        "- biweekly (twice-a-week) meetings to communicate\n",
        "   "
      ]
    },
    {
      "cell_type": "markdown",
      "metadata": {
        "id": "5afUEBTyZPLp"
      },
      "source": [
        "# Project Timeline Proposal"
      ]
    },
    {
      "cell_type": "markdown",
      "metadata": {
        "id": "W3_J79kVZPLp"
      },
      "source": [
        "| Meeting Date  | Meeting Time| Completed Before Meeting  | Discuss at Meeting |\n",
        "|---|---|---|---|\n",
        "| 7/15  |  1 PM | Read & Think about COGS 108 expectations; brainstorm topics/questions  | Determine best form of communication; Discuss and decide on final project topic; discuss hypothesis; begin background research |\n",
        "| 7/15  |  10 AM |  Do background research on topic | Discuss ideal dataset(s) and ethics; draft project proposal |\n",
        "| 7/15  | 10 AM  | Edit, finalize, and submit proposal; Search for datasets  | Discuss Wrangling and possible analytical approaches; Assign group members to lead each specific part   |\n",
        "| 7/18  | 6 PM  | Import & Wrangle Data ; EDA  | Review/Edit wrangling/EDA; Discuss Analysis Plan   |\n",
        "| 7/20  | 12 PM  | Finalize wrangling/EDA; Begin Analysis  | Discuss/edit Analysis; Complete project check-in |\n",
        "| 7/25  | 12 PM  | Complete analysis; Draft results/conclusion/discussion| Discuss/edit full project |\n",
        "| 7/27  | Before 11:59 PM  | NA | Turn in Final Project & Group Project Surveys |"
      ]
    }
  ],
  "metadata": {
    "colab": {
      "provenance": []
    },
    "kernelspec": {
      "display_name": "Python 3 (ipykernel)",
      "language": "python",
      "name": "python3"
    },
    "language_info": {
      "codemirror_mode": {
        "name": "ipython",
        "version": 3
      },
      "file_extension": ".py",
      "mimetype": "text/x-python",
      "name": "python",
      "nbconvert_exporter": "python",
      "pygments_lexer": "ipython3",
      "version": "3.9.13"
    }
  },
  "nbformat": 4,
  "nbformat_minor": 0
}
